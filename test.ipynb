{
 "cells": [
  {
   "cell_type": "markdown",
   "metadata": {},
   "source": [
    "> [!DEFINITION] Definition 1:  三角関数 $\\sin,\\\\;\\cos$\n",
    "> 1. $\\displaystyle e^z = \\sum_{n=0}^{\\infty}{\\frac{z^n}{n!} }\\quad(z\\in\\mathbb{C}).$\n",
    "> 2. $\\displaystyle\\sin{z} = \\sum_{n=0}^{\\infty}{\\frac{(-1)^n}{(2n+1)!}z^{2n+1}}\\quad(z\\in\\mathbb{C}).$\n",
    "> 3. $\\displaystyle\\cos{z} = \\sum_{n=0}^{\\infty}{\\frac{(-1)^n}{(2n)!}z^{2n}}\\quad(z\\in\\mathbb{C}).$\n",
    "\n",
    "> [!THEOREM] Theorem 2:  Euler の等式\n",
    "> $$e^{iz} = \\cos{z}+i\\sin{z}.$$\n",
    "\n",
    "<details>\n",
    "<summary>証明 (クリックで展開)</summary>\n",
    "\n",
    "> [!PROOF]  \n",
    "> （定理の証明）\n",
    "\n",
    "</details>\n",
    "\n",
    "> [!COROLLARY] Corollary 3:  Euler の等式\n",
    "> $$e^{i\\pi} + 1 = 0.$$"
   ]
  },
  {
   "cell_type": "code",
   "execution_count": null,
   "metadata": {
    "vscode": {
     "languageId": "html"
    }
   },
   "outputs": [],
   "source": [
    "<blockquote>\n",
    "    <p>[!DEFINITION] Definition 1:  三角関数 $\\\\sin,\\\\;\\\\cos$</p>\n",
    "    <ol>\n",
    "    <li>$\\\\displaystyle e^z = \\\\sum_{n=0}^{\\\\infty}{\\\\frac{z^n}{n!} }\\\\quad(z\\\\in\\\\mathbb{C}).$</li>\n",
    "    <li>$\\\\displaystyle\\\\sin{z} = \\\\sum_{n=0}^{\\\\infty}{\\\\frac{(-1)^n}{(2n+1)!}z^{2n+1}}\\\\quad(z\\\\in\\\\mathbb{C}).$</li>\n",
    "    <li>$\\\\displaystyle\\\\cos{z} = \\\\sum_{n=0}^{\\\\infty}{\\\\frac{(-1)^n}{(2n)!}z^{2n}}\\\\quad(z\\\\in\\\\mathbb{C}).$</li>\n",
    "    </ol>\n",
    "    </blockquote>\n",
    "    <blockquote>\n",
    "    <p>[!THEOREM] Theorem 2:  Euler の等式\n",
    "    $$e^{iz} = \\\\cos{z}+i\\\\sin{z}.$$</p>\n",
    "    </blockquote>\n",
    "    <details>\n",
    "    <summary>証明 (クリックで展開)</summary>\n",
    "    <blockquote>\n",
    "    <p>[!PROOF]<br>\n",
    "    （定理の証明）</p>\n",
    "    </blockquote>\n",
    "    </details>\n",
    "    <blockquote>\n",
    "    <p>[!COROLLARY] Corollary 3:  Euler の等式\n",
    "    $$e^{i\\\\pi} + 1 = 0.$$</p>\n",
    "    </blockquote>"
   ]
  },
  {
   "cell_type": "code",
   "execution_count": null,
   "metadata": {
    "vscode": {
     "languageId": "html"
    }
   },
   "outputs": [],
   "source": [
    "<div class=\"markdown-alert markdown-alert-caution\">\n",
    "    <p class=\"markdown-alert-title\"><svg class=\"octicon octicon-report mr-2\" viewBox=\"0 0 16 16\" version=\"1.1\" width=\"16\" height=\"16\" aria-hidden=\"true\"><path d=\"M0 1.75C0 .784.784 0 1.75 0h12.5C15.216 0 16 .784 16 1.75v9.5A1.75 1.75 0 0 1 14.25 13H8.06l-2.573 2.573A1.458 1.458 0 0 1 3 14.543V13H1.75A1.75 1.75 0 0 1 0 11.25Zm1.75-.25a.25.25 0 0 0-.25.25v9.5c0 .138.112.25.25.25h2a.75.75 0 0 1 .75.75v2.19l2.72-2.72a.749.749 0 0 1 .53-.22h6.5a.25.25 0 0 0 .25-.25v-9.5a.25.25 0 0 0-.25-.25Zm7 2.25v2.5a.75.75 0 0 1-1.5 0v-2.5a.75.75 0 0 1 1.5 0ZM9 9a1 1 0 1 1-2 0 1 1 0 0 1 2 0Z\"></path></svg>Definition 1:  三角関数 $\\\\sin,\\\\;\\\\cos$</p></p>\n",
    "    <p><ol>\n",
    "    <li>$\\\\displaystyle e^z = \\\\sum_{n=0}^{\\\\infty}{\\\\frac{z^n}{n!} }\\\\quad(z\\\\in\\\\mathbb{C}).$</li>\n",
    "    <li>$\\\\displaystyle\\\\sin{z} = \\\\sum_{n=0}^{\\\\infty}{\\\\frac{(-1)^n}{(2n+1)!}z^{2n+1}}\\\\quad(z\\\\in\\\\mathbb{C}).$</li>\n",
    "    <li>$\\\\displaystyle\\\\cos{z} = \\\\sum_{n=0}^{\\\\infty}{\\\\frac{(-1)^n}{(2n)!}z^{2n}}\\\\quad(z\\\\in\\\\mathbb{C}).$</li>\n",
    "    </ol>\n",
    "    </blockquote>\n",
    "    <blockquote>\n",
    "    <p>[!THEOREM] Theorem 2:  Euler の等式\n",
    "    $$e^{iz} = \\\\cos{z}+i\\\\sin{z}.$$</p>\n",
    "    \n",
    "    </div>\n",
    "    <details>\n",
    "    <summary>証明 (クリックで展開)</summary>\n",
    "    <div class=\"markdown-alert markdown-alert-default\">\n",
    "    <p class=\"markdown-alert-title\">Proof:</p>\n",
    "    <p>（定理の証明）</p>\n",
    "    <div style=\"text-align: right\">$\\\\blacksquare$</div>\n",
    "    </div>\n",
    "    </details>\n",
    "    <div class=\"markdown-alert markdown-alert-tip\">\n",
    "    <p class=\"markdown-alert-title\"><svg class=\"octicon octicon-report mr-2\" viewBox=\"0 0 16 16\" version=\"1.1\" width=\"16\" height=\"16\" aria-hidden=\"true\"><path d=\"M0 1.75C0 .784.784 0 1.75 0h12.5C15.216 0 16 .784 16 1.75v9.5A1.75 1.75 0 0 1 14.25 13H8.06l-2.573 2.573A1.458 1.458 0 0 1 3 14.543V13H1.75A1.75 1.75 0 0 1 0 11.25Zm1.75-.25a.25.25 0 0 0-.25.25v9.5c0 .138.112.25.25.25h2a.75.75 0 0 1 .75.75v2.19l2.72-2.72a.749.749 0 0 1 .53-.22h6.5a.25.25 0 0 0 .25-.25v-9.5a.25.25 0 0 0-.25-.25Zm7 2.25v2.5a.75.75 0 0 1-1.5 0v-2.5a.75.75 0 0 1 1.5 0ZM9 9a1 1 0 1 1-2 0 1 1 0 0 1 2 0Z\"></path></svg>Corollary 3:  Euler の等式</p>\n",
    "    <p>$$e^{i\\\\pi} + 1 = 0.$$</p>\n",
    "    \n",
    "    </div>"
   ]
  }
 ],
 "metadata": {
  "kernelspec": {
   "display_name": "Python 3",
   "language": "python",
   "name": "python3"
  },
  "language_info": {
   "name": "python",
   "version": "3.10.12"
  }
 },
 "nbformat": 4,
 "nbformat_minor": 2
}
